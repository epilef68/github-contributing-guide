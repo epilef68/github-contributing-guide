{
 "cells": [
  {
   "cell_type": "markdown",
   "metadata": {
    "slideshow": {
     "slide_type": "slide"
    }
   },
   "source": [
    "# Push-Pull and All That <br> A Guide to GitHub Collaborations\n",
    "## Zigfried Hampel-Arias\n",
    "\n",
    "### IQT Lunch & Learn\n",
    "7 November, 2018"
   ]
  },
  {
   "cell_type": "markdown",
   "metadata": {
    "slideshow": {
     "slide_type": "slide"
    }
   },
   "source": [
    "### Slides\n",
    "https://zhampel.github.io/github-contributing-guide\n",
    "\n",
    "### Contact\n",
    "\n",
    "Find me on:\n",
    "\n",
    "<a href=\"https://zhampel.github.io/\">\n",
    "<img src=\"images/octocat.png\" alt=\"Go My GitHub\" width=\"60\" height=\"60\" border=\"0\"> </a>\n",
    "\n",
    "<a href=\"https://www.linkedin.com/in/zhampel-arias/\">\n",
    "<img src=\"images/LinkedIn-InBug-2C.png\" alt=\"Go to my LinkedIn\" width=\"60\" height=\"60\" border=\"0\">\n",
    "</a>\n"
   ]
  },
  {
   "cell_type": "markdown",
   "metadata": {
    "slideshow": {
     "slide_type": "slide"
    }
   },
   "source": [
    "## Overview\n",
    "\n",
    "- Brief Terminology\n",
    "- Contributing to Personal Repos\n",
    "- Contributing to Repos in Teams"
   ]
  },
  {
   "cell_type": "markdown",
   "metadata": {
    "slideshow": {
     "slide_type": "slide"
    }
   },
   "source": [
    "## Personal Disclaimer\n",
    "\n",
    "### Not a definitive guide to using git\n",
    "- I won't pretend to be an expert\n",
    "- Countless resources with further details\n",
    "    - [GitHub Book](https://git-scm.com/book/en/v2/)\n",
    "    - GitHub help [articles](https://help.github.com)\n",
    "    - StackOverflow [git](https://stackoverflow.com/questions/tagged/git) tags\n",
    "    - Git and version control [Q&A](https://www.git-tower.com/learn/git/faq/)"
   ]
  },
  {
   "cell_type": "markdown",
   "metadata": {
    "slideshow": {
     "slide_type": "fragment"
    }
   },
   "source": [
    "### Slides provide guidelines\n",
    "- Outlines vast majority of expected usage\n",
    "- If upheld, provide a **streamlined** workflow for collaborative teams"
   ]
  },
  {
   "cell_type": "markdown",
   "metadata": {
    "slideshow": {
     "slide_type": "slide"
    }
   },
   "source": [
    "## High-Level Terminology Overview\n",
    "\n",
    "### Repos\n",
    "- Place where your project sits\n",
    "- Ends in .git\n",
    "- Has one **master**, can have many **branches**, all with sequential versions that are *tracked*\n",
    "\n",
    "<img src=\"images/github-repo-example.jpg\" alt=\"repo-example\" width=\"600\" height=\"600\" border=\"0\">\n"
   ]
  },
  {
   "cell_type": "markdown",
   "metadata": {
    "slideshow": {
     "slide_type": "slide"
    }
   },
   "source": [
    "## Command Line Sequence\n",
    "\n",
    "- `git clone https://github.com/<your_username>/<repo_name>.git`\n",
    "- `cd repo_name`\n",
    "- `git checkout -b <new_feature_branch_name>`\n",
    "- `git add <modified_file_list_here>`\n",
    "- `git commit -m '<meaningful short message about the changes made>'`\n",
    "- `git push origin <new_feature_branch_name>`\n",
    "- If pushed to master branch, no worries. Otherwise, can go to your repo on GitHub and submit a Pull Request."
   ]
  },
  {
   "cell_type": "markdown",
   "metadata": {
    "slideshow": {
     "slide_type": "slide"
    }
   },
   "source": [
    "## Command Line Sequence\n",
    "\n",
    "- Fork the Repo ![fork_image](images/fork-button.png)\n",
    "- `git clone https://github.com/<your_username>/<repo_name>.git`\n",
    "- `cd repo_name`\n",
    "- `git remote add upstream https://github.com/<upstream_username>/<repo_name>.git`\n",
    "- `git remote -v`\n",
    "- `git fetch upstream`\n",
    "- `git checkout master`\n",
    "- `git merge upstream/master`\n",
    "- `git checkout -b <new_feature_branch_name>`\n",
    "- `git add <modified_file_list_here>`\n",
    "- `git commit -m '<meaningful short message about the changes made>'`\n",
    "- `git push origin <new_feature_branch_name>`\n",
    "- Go to your repo on GitHub and submit a Pull Request! ![pr-button](images/pull-request-button.png)\n"
   ]
  },
  {
   "cell_type": "markdown",
   "metadata": {
    "slideshow": {
     "slide_type": "slide"
    }
   },
   "source": [
    "# Summary\n",
    "\n",
    "- Streamlining contributions to repos in teams"
   ]
  },
  {
   "cell_type": "markdown",
   "metadata": {
    "slideshow": {
     "slide_type": "fragment"
    }
   },
   "source": [
    "- Hopefully, the structure of GitHub is clearer\n",
    "    - Following set of commands for 95% work\n",
    "    - Potentially improve performance of team\n"
   ]
  },
  {
   "cell_type": "markdown",
   "metadata": {
    "slideshow": {
     "slide_type": "slide"
    }
   },
   "source": [
    "# Thank you for your attention!\n",
    "\n",
    "<br>\n",
    "\n",
    "![final](images/sunset-gsl.jpg)\n",
    "\n",
    "## Any Further Questions?"
   ]
  },
  {
   "cell_type": "markdown",
   "metadata": {
    "slideshow": {
     "slide_type": "slide"
    }
   },
   "source": [
    "# Backups"
   ]
  },
  {
   "cell_type": "code",
   "execution_count": null,
   "metadata": {},
   "outputs": [],
   "source": []
  }
 ],
 "metadata": {
  "celltoolbar": "Slideshow",
  "kernelspec": {
   "display_name": "Python 3",
   "language": "python",
   "name": "python3"
  },
  "language_info": {
   "codemirror_mode": {
    "name": "ipython",
    "version": 3
   },
   "file_extension": ".py",
   "mimetype": "text/x-python",
   "name": "python",
   "nbconvert_exporter": "python",
   "pygments_lexer": "ipython3",
   "version": "3.7.0"
  }
 },
 "nbformat": 4,
 "nbformat_minor": 2
}
