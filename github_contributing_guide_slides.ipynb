{
 "cells": [
  {
   "cell_type": "markdown",
   "metadata": {
    "slideshow": {
     "slide_type": "slide"
    }
   },
   "source": [
    "# Push-Pull and All That <br> A Guide to GitHub Collaborations\n",
    "## Zigfried Hampel-Arias\n",
    "\n",
    "### IQT Lunch & Learn\n",
    "8 November, 2018"
   ]
  },
  {
   "cell_type": "markdown",
   "metadata": {
    "slideshow": {
     "slide_type": "slide"
    }
   },
   "source": [
    "### Slides\n",
    "https://zhampel.github.io/github-contributing-guide\n",
    "\n",
    "### Contact\n",
    "\n",
    "Find me on:\n",
    "\n",
    "<a href=\"https://zhampel.github.io/\">\n",
    "<img src=\"images/octocat.png\" alt=\"Go My GitHub\" width=\"60\" height=\"60\" border=\"0\"> </a>\n",
    "\n",
    "<a href=\"https://www.linkedin.com/in/zhampel-arias/\">\n",
    "<img src=\"images/LinkedIn-InBug-2C.png\" alt=\"Go to my LinkedIn\" width=\"60\" height=\"60\" border=\"0\">\n",
    "</a>\n"
   ]
  },
  {
   "cell_type": "markdown",
   "metadata": {
    "slideshow": {
     "slide_type": "slide"
    }
   },
   "source": [
    "## Overview\n",
    "\n",
    "- Brief Terminology\n",
    "- Contributing to Personal Repos\n",
    "- Contributing to Repos in Teams"
   ]
  },
  {
   "cell_type": "markdown",
   "metadata": {
    "slideshow": {
     "slide_type": "slide"
    }
   },
   "source": [
    "## Personal Disclaimer\n",
    "\n",
    "### Not a definitive guide to using git\n",
    "- I won't pretend to be an expert\n",
    "- Countless resources with further details\n",
    "    - [GitHub Book](https://git-scm.com/book/en/v2/)\n",
    "    - GitHub help [articles](https://help.github.com)\n",
    "    - StackOverflow [git](https://stackoverflow.com/questions/tagged/git) tags\n",
    "    - Git and version control [Q&A](https://www.git-tower.com/learn/git/faq/)"
   ]
  },
  {
   "cell_type": "markdown",
   "metadata": {
    "slideshow": {
     "slide_type": "fragment"
    }
   },
   "source": [
    "### Slides provide guidelines\n",
    "- Outlines *vast majority* of expected usage/reqs\n",
    "- If upheld, provides a **streamlined** workflow for collaborative teams"
   ]
  },
  {
   "cell_type": "markdown",
   "metadata": {
    "slideshow": {
     "slide_type": "fragment"
    }
   },
   "source": [
    "### Main goal of today: understand & encourage following these guidelines"
   ]
  },
  {
   "cell_type": "markdown",
   "metadata": {
    "slideshow": {
     "slide_type": "slide"
    }
   },
   "source": [
    "## Terminology Overview\n",
    "\n",
    "\n",
    "| **Places**    | **Actions**    | **Communications** |\n",
    "|---------------|----------------|--------------------|\n",
    "| repositories  | fork           | remote             |\n",
    "| fork          | push           | issues             |\n",
    "|  upstream     | pull           | pull request       |\n",
    "|  local        | merge          |        .           |\n",
    "|    .          | commit         |        .           |\n",
    "|    .          | fetch          |        .           |\n",
    "\n",
    "Sort of loose, conceptual categories for these slides..."
   ]
  },
  {
   "cell_type": "markdown",
   "metadata": {
    "slideshow": {
     "slide_type": "slide"
    }
   },
   "source": [
    "## Repositories\n",
    "- Magical place where your project sits\n",
    "- In git, the repo officially ends in .git\n",
    "\n",
    "<img src=\"images/github-repo-example.jpg\" alt=\"repo-example\" width=\"500\" border=\"0\">"
   ]
  },
  {
   "cell_type": "markdown",
   "metadata": {
    "slideshow": {
     "slide_type": "slide"
    }
   },
   "source": [
    "## Repo in terms of version control\n",
    "\n",
    "**Origin** repo has sequentially *tracked* versions\n",
    "- One **master** branch\n",
    "- May have many **branches**\n",
    "- Dots represent changes to project along specified branch\n",
    "\n",
    "<img src=\"images/origin.png\" alt=\"origin\" width=\"500\" border=\"0\">"
   ]
  },
  {
   "cell_type": "markdown",
   "metadata": {
    "slideshow": {
     "slide_type": "fragment"
    }
   },
   "source": [
    "\n",
    "## But how to make these changes?"
   ]
  },
  {
   "cell_type": "markdown",
   "metadata": {
    "slideshow": {
     "slide_type": "subslide"
    }
   },
   "source": [
    "## Local Working Copy\n",
    "\n",
    "<img src=\"images/personal-repo-pull.png\" alt=\"personal-repo-pull\" width=\"200\" border=\"0\">\n",
    "\n",
    "- One must **pull** the **origin** repo to your workstation.<br>\n",
    "    `git clone https://github.com/<your_username>/<repo_name>.git`\n",
    "<br>\n",
    "- Makes a **local** copy of the repo"
   ]
  },
  {
   "cell_type": "markdown",
   "metadata": {
    "slideshow": {
     "slide_type": "subslide"
    }
   },
   "source": [
    "## Local Working Work\n",
    "\n",
    "- Can make changes locally\n",
    "  - Can work on **master** branch\n",
    "  - Can make topically named branch<br>\n",
    "      `git checkout -b leafy_branch`\n",
    "      \n",
    "<img src=\"images/local.png\" alt=\"local\" width=\"200\" border=\"0\">"
   ]
  },
  {
   "cell_type": "markdown",
   "metadata": {
    "slideshow": {
     "slide_type": "fragment"
    }
   },
   "source": [
    "As a quick aside, always good to run <br>\n",
    "   - `git branch` or `git status` to get more info"
   ]
  },
  {
   "cell_type": "markdown",
   "metadata": {
    "slideshow": {
     "slide_type": "subslide"
    }
   },
   "source": [
    "## Local Working Work\n",
    "\n",
    "- Can make changes locally\n",
    "  - Can work on **master** branch\n",
    "  - Can make topically named branch<br>\n",
    "      `git checkout -b leafy_branch`\n",
    "      \n",
    "<img src=\"images/local.png\" alt=\"local\" width=\"200\" border=\"0\">\n",
    "\n",
    "- When work is done, prep via add and commit! <br>\n",
    "  `git add <modified_file_list_here>` <br>\n",
    "  `git commit -m '<meaningful short message about the changes made>'` <br>"
   ]
  },
  {
   "cell_type": "markdown",
   "metadata": {
    "slideshow": {
     "slide_type": "subslide"
    }
   },
   "source": [
    "## Local Working Work\n",
    "\n",
    "- Can make changes locally\n",
    "  - Can work on **master** branch\n",
    "  - Can make topically named branch<br>\n",
    "      `git checkout -b leafy_branch`\n",
    "      \n",
    "<img src=\"images/local.png\" alt=\"local\" width=\"200\" border=\"0\">\n",
    "\n",
    "- When work is done, prep via add and commit! <br>\n",
    "  `git add <modified_file_list_here>` <br>\n",
    "  `git commit -m '<meaningful short message about the changes made>'` <br>"
   ]
  },
  {
   "cell_type": "markdown",
   "metadata": {
    "slideshow": {
     "slide_type": "subslide"
    }
   },
   "source": [
    "## Update the Origin\n",
    "\n",
    "**Push** local work to origin\n",
    "- `git push` <br>\n",
    "\n",
    "if on **master**, otherwise <br>\n",
    "\n",
    "- `git push origin leafy_branch`\n",
    "\n",
    "<img src=\"images/personal-repo-push.png\" alt=\"personal-repo-push\" width=\"200\" border=\"0\">"
   ]
  },
  {
   "cell_type": "markdown",
   "metadata": {
    "slideshow": {
     "slide_type": "subslide"
    }
   },
   "source": [
    "## Repos Wrap-Up\n",
    "\n",
    "These commands are used more for **personal repos**, for which you are the creator.\n",
    "\n",
    "<img src=\"images/personal-repo.png\" alt=\"personal-repo\" width=\"200\" border=\"0\">"
   ]
  },
  {
   "cell_type": "markdown",
   "metadata": {
    "slideshow": {
     "slide_type": "fragment"
    }
   },
   "source": [
    "So what if you have friends?"
   ]
  },
  {
   "cell_type": "markdown",
   "metadata": {
    "slideshow": {
     "slide_type": "slide"
    }
   },
   "source": [
    "## Repo is somewhere else on GitHub\n",
    "\n",
    "You must **fork** the repo!\n",
    "- Done directly on GitHub\n",
    "\n",
    "<img src=\"images/collab-repo-fork.png\" alt=\"collab-repo-fork\" width=\"500\" border=\"0\">"
   ]
  },
  {
   "cell_type": "markdown",
   "metadata": {
    "slideshow": {
     "slide_type": "fragment"
    }
   },
   "source": [
    "- Makes a copy of the repo *at the current state* in your account"
   ]
  },
  {
   "cell_type": "markdown",
   "metadata": {
    "slideshow": {
     "slide_type": "subslide"
    }
   },
   "source": [
    "## Local Work Again\n",
    "\n",
    "After the **fork**, **origin** is repo in *your account*\n",
    "- **Pull** from the **origin** as usual\n",
    "- Repo you forked *from* becomes the **upstream**\n",
    "\n",
    "<img src=\"images/collab-repo-pull.png\" alt=\"collab-repo-pull\" width=\"500\" border=\"0\">"
   ]
  },
  {
   "cell_type": "markdown",
   "metadata": {
    "slideshow": {
     "slide_type": "fragment"
    }
   },
   "source": [
    "What about if changes are made since to the upstream you forked from???!!!"
   ]
  },
  {
   "cell_type": "markdown",
   "metadata": {
    "slideshow": {
     "slide_type": "subslide"
    }
   },
   "source": [
    "## You sync them up!\n",
    "\n",
    "Create a **remote** to the **upstream** repo\n",
    "- `git remote add upstream https://github.com/<someone_elses_username>/<repo_name>.git` <br>\n",
    "<img src=\"images/collab-repo-fetch.png\" alt=\"collab-repo-fetch\" width=\"500\" border=\"0\">"
   ]
  },
  {
   "cell_type": "markdown",
   "metadata": {
    "slideshow": {
     "slide_type": "fragment"
    }
   },
   "source": [
    "Then sync the **local** one by **fetching** the upstream, then **merging** it and the local master\n",
    "- `git fetch upstream`\n",
    "- `git checkout master`\n",
    "- `git merge upstream/master`"
   ]
  },
  {
   "cell_type": "markdown",
   "metadata": {
    "slideshow": {
     "slide_type": "subslide"
    }
   },
   "source": [
    "## Now get to work as usual...\n",
    "\n",
    "- Make new branches and write new code\n",
    "- Add changed files, **commit** and **push** to **origin**\n",
    "\n",
    "<img src=\"images/collab-repo-push.png\" alt=\"collab-repo-push\" width=\"500\" border=\"0\">"
   ]
  },
  {
   "cell_type": "markdown",
   "metadata": {
    "slideshow": {
     "slide_type": "subslide"
    }
   },
   "source": [
    "## After pushing...\n",
    "\n",
    "So far, the **push** has only changed your **forked** repo, the **origin**.\n",
    "\n",
    "Ask to have those changes reflected in the **upstream** via **Pull Request**\n",
    "\n",
    "<img src=\"images/pull-request-button.png\" alt=\"pull-request-button\" width=\"500\" border=\"0\">"
   ]
  },
  {
   "cell_type": "markdown",
   "metadata": {
    "slideshow": {
     "slide_type": "fragment"
    }
   },
   "source": [
    "Alerts owner of **upstream** repo to review changes you're suggesting.\n",
    "\n",
    "In general, one should:\n",
    "- Check if changes solve an open issue, otherwise best to open a new issue. Assign yourself...\n",
    "<img src=\"images/new-issue-button.png\" alt=\"new-issue-button\" width=\"500\" border=\"0\">\n",
    "- Provide descriptive statement in PR box detailing submitted changes.\n",
    "  - Assign yourself\n",
    "  - Request review from owner to look for errors, conflicts, etc"
   ]
  },
  {
   "cell_type": "markdown",
   "metadata": {
    "slideshow": {
     "slide_type": "subslide"
    }
   },
   "source": [
    "## Collaborative Effort\n",
    "\n",
    "<img src=\"images/collab-repo.png\" alt=\"collab-repo\" width=\"500\" border=\"0\">"
   ]
  },
  {
   "cell_type": "markdown",
   "metadata": {
    "slideshow": {
     "slide_type": "slide"
    }
   },
   "source": [
    "## Comparison\n",
    "\n",
    "| Collaborative Work |.| Personal Repo Work |\n",
    "|------|-----|-----|\n",
    "| <img src=\"images/collab-repo.png\" alt=\"collab-repo\" width=\"500\" border=\"0\"> | . | <img src=\"images/personal-repo.png\" alt=\"personal-repo\" width=\"200\" border=\"0\"> |"
   ]
  },
  {
   "cell_type": "markdown",
   "metadata": {
    "slideshow": {
     "slide_type": "slide"
    }
   },
   "source": [
    "## Some Best Practices\n",
    "\n",
    "General\n",
    "- Use `git status` often\n",
    "- Commits should be fairly self-contained, messages should be short and sweet"
   ]
  },
  {
   "cell_type": "markdown",
   "metadata": {
    "slideshow": {
     "slide_type": "fragment"
    }
   },
   "source": [
    "Personal Repos\n",
    "- Typically can work on master\n",
    "- Easy set of commands to follow, probably can use GitHub Destkop easily too."
   ]
  },
  {
   "cell_type": "markdown",
   "metadata": {
    "slideshow": {
     "slide_type": "fragment"
    }
   },
   "source": [
    "Collaborative Work\n",
    "- Extension of personal workflow\n",
    "  - Addition of **fork**, **remote/fetch** prior to work\n",
    "  - Pull request after normal steps when code is **deliverable** (code review...)\n",
    "- Allows multiple users to contribute safely to codebase, avoid conflicting code"
   ]
  },
  {
   "cell_type": "markdown",
   "metadata": {
    "slideshow": {
     "slide_type": "slide"
    }
   },
   "source": [
    "# Summary\n",
    "\n",
    "- Hopefully, the functionality of GitHub is clearer\n",
    "    - Following set of commands for 95% work\n",
    "    - Potentially improve performance of team\n",
    "    - Provide systematic review in main codebase"
   ]
  },
  {
   "cell_type": "markdown",
   "metadata": {
    "slideshow": {
     "slide_type": "fragment"
    }
   },
   "source": [
    "- Is safest, most efficient manner to streamline contributions to repos in teams"
   ]
  },
  {
   "cell_type": "markdown",
   "metadata": {
    "slideshow": {
     "slide_type": "slide"
    }
   },
   "source": [
    "# Thank you for your attention!\n",
    "\n",
    "<br>\n",
    "\n",
    "![final](images/sunset-gsl.jpg)\n",
    "\n",
    "## Any Further Questions?"
   ]
  },
  {
   "cell_type": "markdown",
   "metadata": {
    "slideshow": {
     "slide_type": "slide"
    }
   },
   "source": [
    "# Command Line Sequences"
   ]
  },
  {
   "cell_type": "markdown",
   "metadata": {
    "slideshow": {
     "slide_type": "subslide"
    }
   },
   "source": [
    "## Personal Repos\n",
    "\n",
    "- Create a new repo named *repo_name* on your GitHub :)\n",
    "- On your work station, clone the repo\n",
    "  - `git clone https://github.com/<your_username>/<repo_name>.git`\n",
    "  - `cd repo_name`\n",
    "- You are now in a **local** copy of the **origin**-al repo"
   ]
  },
  {
   "cell_type": "markdown",
   "metadata": {
    "slideshow": {
     "slide_type": "fragment"
    }
   },
   "source": [
    "- You are on the **master** branch until you decide to make a new branch\n",
    "  - `git checkout -b <new_branch>`\n",
    "  - `git branch` or `git status` to get more info\n",
    "- Can checkout other existing branches easily\n",
    "  - `git checkout <other_branch_name>`\n",
    "  - `git checkout master` of course\n",
    "- For more info\n",
    "  - `git branch` or `git status`"
   ]
  },
  {
   "cell_type": "markdown",
   "metadata": {
    "slideshow": {
     "slide_type": "slide"
    }
   },
   "source": [
    "## Personal Repo - Command Line Sequence\n",
    "\n",
    "- `git clone https://github.com/<your_username>/<repo_name>.git`\n",
    "- `cd repo_name`\n",
    "- `git checkout -b <new_feature_branch_name>`\n",
    "- `git add <modified_file_list_here>`\n",
    "- `git commit -m '<meaningful short message about the changes made>'`\n",
    "- `git push origin <new_feature_branch_name>`\n",
    "- If pushed to master branch, no worries. Otherwise, can go to your repo on GitHub and submit a Pull Request."
   ]
  },
  {
   "cell_type": "markdown",
   "metadata": {
    "slideshow": {
     "slide_type": "slide"
    }
   },
   "source": [
    "## Contributing to Repo - Command Line Sequence\n",
    "\n",
    "- Fork the Repo\n",
    "<img src=\"images/fork-button.png\" alt=\"fork-button\" width=\"300\" border=\"0\">\n",
    "- `git clone https://github.com/<your_username>/<repo_name>.git`\n",
    "- `cd repo_name`\n",
    "- `git remote add upstream https://github.com/<upstream_username>/<repo_name>.git`\n",
    "- `git remote -v`\n",
    "- `git fetch upstream`\n",
    "- `git checkout master`\n",
    "- `git merge upstream/master`\n",
    "- If fixing/adding, good idea to submit a **ticket**. Assign yourself, add labels, etc.\n",
    "<img src=\"images/new-issue-button.png\" alt=\"issue-button\" width=\"700\" border=\"0\">"
   ]
  },
  {
   "cell_type": "markdown",
   "metadata": {
    "slideshow": {
     "slide_type": "subslide"
    }
   },
   "source": [
    "## Contributing to Repo - Continued\n",
    "\n",
    "\n",
    "- `git checkout -b <new_feature_branch_name>`\n",
    "- Do what you do best\n",
    "- `git add <modified_file_list_here>`\n",
    "- `git commit -m '<meaningful short message about the changes made>'`\n",
    "- `git push origin <new_feature_branch_name>`\n",
    "- Go to your repo on GitHub and submit a **pull request**! Can request reviewer, assign yourself, add labels, etc.\n",
    "<img src=\"images/pull-request-button.png\" alt=\"pr-button\" width=\"400\" border=\"0\">\n"
   ]
  }
 ],
 "metadata": {
  "celltoolbar": "Slideshow",
  "kernelspec": {
   "display_name": "Python 3",
   "language": "python",
   "name": "python3"
  },
  "language_info": {
   "codemirror_mode": {
    "name": "ipython",
    "version": 3
   },
   "file_extension": ".py",
   "mimetype": "text/x-python",
   "name": "python",
   "nbconvert_exporter": "python",
   "pygments_lexer": "ipython3",
   "version": "3.7.0"
  }
 },
 "nbformat": 4,
 "nbformat_minor": 2
}
