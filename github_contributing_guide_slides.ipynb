{
 "cells": [
  {
   "cell_type": "markdown",
   "metadata": {
    "slideshow": {
     "slide_type": "slide"
    }
   },
   "source": [
    "# Push-Pull and All That <br> A Guide to GitHub Collaborations\n",
    "## Zigfried Hampel-Arias\n",
    "\n",
    "### IQT Lunch & Learn\n",
    "7 November, 2018"
   ]
  },
  {
   "cell_type": "markdown",
   "metadata": {
    "slideshow": {
     "slide_type": "slide"
    }
   },
   "source": [
    "### Slides\n",
    "https://zhampel.github.io/github-contributing-guide\n",
    "\n",
    "### Contact\n",
    "\n",
    "Find me on:\n",
    "\n",
    "<a href=\"https://zhampel.github.io/\">\n",
    "<img src=\"images/octocat.png\" alt=\"Go My GitHub\" width=\"60\" height=\"60\" border=\"0\"> </a>\n",
    "\n",
    "<a href=\"https://www.linkedin.com/in/zhampel-arias/\">\n",
    "<img src=\"images/LinkedIn-InBug-2C.png\" alt=\"Go to my LinkedIn\" width=\"60\" height=\"60\" border=\"0\">\n",
    "</a>\n"
   ]
  },
  {
   "cell_type": "markdown",
   "metadata": {
    "slideshow": {
     "slide_type": "slide"
    }
   },
   "source": [
    "## Overview\n",
    "\n",
    "- Brief Terminology\n",
    "- Contributing to Personal Repos\n",
    "- Contributing to Repos in Teams"
   ]
  },
  {
   "cell_type": "markdown",
   "metadata": {
    "slideshow": {
     "slide_type": "slide"
    }
   },
   "source": [
    "## Personal Disclaimer\n",
    "\n",
    "### Not a definitive guide to using git\n",
    "- I won't pretend to be an expert\n",
    "- Countless resources with further details\n",
    "    - [GitHub Book](https://git-scm.com/book/en/v2/)\n",
    "    - GitHub help [articles](https://help.github.com)\n",
    "    - StackOverflow [git](https://stackoverflow.com/questions/tagged/git) tags\n",
    "    - Git and version control [Q&A](https://www.git-tower.com/learn/git/faq/)"
   ]
  },
  {
   "cell_type": "markdown",
   "metadata": {
    "slideshow": {
     "slide_type": "fragment"
    }
   },
   "source": [
    "### Slides provide guidelines\n",
    "- Outlines *vast majority* of expected usage/reqs\n",
    "- If upheld, provides a **streamlined** workflow for collaborative teams"
   ]
  },
  {
   "cell_type": "markdown",
   "metadata": {
    "slideshow": {
     "slide_type": "fragment"
    }
   },
   "source": [
    "### Main goal of today: understand & encourage following these guidelines"
   ]
  },
  {
   "cell_type": "markdown",
   "metadata": {
    "slideshow": {
     "slide_type": "slide"
    }
   },
   "source": [
    "## Terminology Overview\n",
    "\n",
    "\n",
    "| **Places**    | **Actions**    | **Communications** |\n",
    "|---------------|----------------|--------------------|\n",
    "| repositories  | fork           | remote             |\n",
    "| fork          | push           | issues             |\n",
    "|  upstream     | pull           | pull request       |\n",
    "|  local        | merge          |        .           |\n",
    "|    .          | commit         |        .           |\n",
    "|    .          | fetch          |        .           |\n",
    "\n",
    "Sort of loose, conceptual categories for these slides..."
   ]
  },
  {
   "cell_type": "markdown",
   "metadata": {
    "slideshow": {
     "slide_type": "slide"
    }
   },
   "source": [
    "## Repositories\n",
    "- Magical place where your project sits\n",
    "- Ends in .git\n",
    "- Has one **master**, can have many **branches**, all with sequentially *tracked* versions\n",
    "\n",
    "<img src=\"images/github-repo-example.jpg\" alt=\"repo-example\" width=\"500\" border=\"0\">"
   ]
  },
  {
   "cell_type": "markdown",
   "metadata": {
    "slideshow": {
     "slide_type": "subslide"
    }
   },
   "source": [
    "## Repos\n",
    "\n",
    "- Create a new repo named *repo_name* on your GitHub :)\n",
    "- On your work station, clone the repo\n",
    "  - `git clone https://github.com/<your_username>/<repo_name>.git`\n",
    "  - `cd repo_name`\n",
    "- You are now in a **local** copy of the **origin**-al repo\n",
    "- You are on the **master** branch until you decide to make a new branch\n",
    "  - `git checkout -b <new_branch>`\n",
    "  - `git branch` or `git status` to get more info\n",
    "- Can checkout other existing branches easily\n",
    "  - `git checkout <other_branch_name>`\n",
    "  - `git checkout master` of course\n"
   ]
  },
  {
   "cell_type": "markdown",
   "metadata": {
    "slideshow": {
     "slide_type": "subslide"
    }
   },
   "source": [
    "## Repos\n",
    "\n",
    "- Create a new repo named *repo_name* on your GitHub :)\n",
    "- On your **local** machine, clone the repo\n",
    "  - `git clone https://github.com/<your_username>/<repo_name>.git`\n",
    "  - `cd repo_name`\n",
    "- You nare now in a **copy** of the **origin**-al repo\n",
    "- You are on the **master** branch until you decide to make a new branch\n",
    "  - `git checkout -b <new_branch>`\n",
    "  - `git branch` or `git status` to get more info\n"
   ]
  },
  {
   "cell_type": "markdown",
   "metadata": {
    "slideshow": {
     "slide_type": "slide"
    }
   },
   "source": [
    "## Personal Repo - Command Line Sequence\n",
    "\n",
    "- `git clone https://github.com/<your_username>/<repo_name>.git`\n",
    "- `cd repo_name`\n",
    "- `git checkout -b <new_feature_branch_name>`\n",
    "- `git add <modified_file_list_here>`\n",
    "- `git commit -m '<meaningful short message about the changes made>'`\n",
    "- `git push origin <new_feature_branch_name>`\n",
    "- If pushed to master branch, no worries. Otherwise, can go to your repo on GitHub and submit a Pull Request."
   ]
  },
  {
   "cell_type": "markdown",
   "metadata": {
    "slideshow": {
     "slide_type": "slide"
    }
   },
   "source": [
    "## Contributing to Repo - Command Line Sequence\n",
    "\n",
    "- Fork the Repo\n",
    "<img src=\"images/fork-button.png\" alt=\"fork-button\" width=\"300\" border=\"0\">\n",
    "- `git clone https://github.com/<your_username>/<repo_name>.git`\n",
    "- `cd repo_name`\n",
    "- `git remote add upstream https://github.com/<upstream_username>/<repo_name>.git`\n",
    "- `git remote -v`\n",
    "- `git fetch upstream`\n",
    "- `git checkout master`\n",
    "- `git merge upstream/master`\n",
    "- If fixing/adding, good idea to submit a **ticket**. Assign yourself, add labels, etc.\n",
    "<img src=\"images/new-issue-button.png\" alt=\"issue-button\" width=\"700\" border=\"0\">\n",
    "- `git checkout -b <new_feature_branch_name>`\n",
    "- `git add <modified_file_list_here>`\n",
    "- `git commit -m '<meaningful short message about the changes made>'`\n",
    "- `git push origin <new_feature_branch_name>`\n",
    "- Go to your repo on GitHub and submit a **pull request**! Can request reviewer, assign yourself, add labels, etc.\n",
    "<img src=\"images/pull-request-button.png\" alt=\"pr-button\" width=\"400\" border=\"0\">\n"
   ]
  },
  {
   "cell_type": "markdown",
   "metadata": {
    "slideshow": {
     "slide_type": "slide"
    }
   },
   "source": [
    "# Summary\n",
    "\n",
    "- Streamlining contributions to repos in teams"
   ]
  },
  {
   "cell_type": "markdown",
   "metadata": {
    "slideshow": {
     "slide_type": "fragment"
    }
   },
   "source": [
    "- Hopefully, the structure of GitHub is clearer\n",
    "    - Following set of commands for 95% work\n",
    "    - Potentially improve performance of team\n"
   ]
  },
  {
   "cell_type": "markdown",
   "metadata": {
    "slideshow": {
     "slide_type": "slide"
    }
   },
   "source": [
    "# Thank you for your attention!\n",
    "\n",
    "<br>\n",
    "\n",
    "![final](images/sunset-gsl.jpg)\n",
    "\n",
    "## Any Further Questions?"
   ]
  },
  {
   "cell_type": "markdown",
   "metadata": {
    "slideshow": {
     "slide_type": "slide"
    }
   },
   "source": [
    "# Backups"
   ]
  },
  {
   "cell_type": "code",
   "execution_count": null,
   "metadata": {},
   "outputs": [],
   "source": []
  }
 ],
 "metadata": {
  "celltoolbar": "Slideshow",
  "kernelspec": {
   "display_name": "Python 3",
   "language": "python",
   "name": "python3"
  },
  "language_info": {
   "codemirror_mode": {
    "name": "ipython",
    "version": 3
   },
   "file_extension": ".py",
   "mimetype": "text/x-python",
   "name": "python",
   "nbconvert_exporter": "python",
   "pygments_lexer": "ipython3",
   "version": "3.7.0"
  }
 },
 "nbformat": 4,
 "nbformat_minor": 2
}
